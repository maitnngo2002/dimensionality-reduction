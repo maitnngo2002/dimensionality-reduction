{
  "nbformat": 4,
  "nbformat_minor": 0,
  "metadata": {
    "colab": {
      "provenance": []
    },
    "kernelspec": {
      "name": "python3",
      "display_name": "Python 3"
    },
    "language_info": {
      "name": "python"
    }
  },
  "cells": [
    {
      "cell_type": "code",
      "execution_count": null,
      "metadata": {
        "id": "To4nRApgKGXt"
      },
      "outputs": [],
      "source": [
        "import matplotlib\n",
        "from matplotlib.image import imread\n",
        "from matplotlib import pyplot as plt\n",
        "import requests\n",
        "\n",
        "# Preset Matplotlib figure sizes\n",
        "\n",
        "matplotlib.rcParams['figure.figsize'] = [16, 9]\n"
      ]
    },
    {
      "cell_type": "code",
      "source": [
        "import tensorflow as tf\n",
        "print(tf.__version__)"
      ],
      "metadata": {
        "colab": {
          "base_uri": "https://localhost:8080/"
        },
        "id": "DMCF7r_lKbFA",
        "outputId": "18488d55-4f5f-428f-9b6d-b046ce5ce505"
      },
      "execution_count": null,
      "outputs": [
        {
          "output_type": "stream",
          "name": "stdout",
          "text": [
            "2.8.2\n"
          ]
        }
      ]
    },
    {
      "cell_type": "code",
      "source": [
        "A = tf.constant([\n",
        "    [10, 8, 20, 0, 0],\n",
        "    [10, 9, 25, 0, 0],\n",
        "    [12, 13, 19, 0, 0],\n",
        "    [10, 8, 20, 0, 0],\n",
        "    [0, 0, 0, 11, 10],\n",
        "    [0, 0, 0, 12, 7],\n",
        "    [0, 0, 0, 9, 8],\n",
        "    [0, 0, 0, 8, 9]\n",
        "], dtype=tf.float32)"
      ],
      "metadata": {
        "id": "chvzIwFkKfu9"
      },
      "execution_count": null,
      "outputs": []
    },
    {
      "cell_type": "markdown",
      "source": [
        "## SVD with the same rank\n"
      ],
      "metadata": {
        "id": "OvggGKyROJ6W"
      }
    },
    {
      "cell_type": "code",
      "source": [
        "# Compute the SVD factorization\n",
        "\n",
        "s, U, V = tf.linalg.svd(A)\n",
        "\n",
        "# Define Sigma and V Transpose\n",
        "\n",
        "S = tf.linalg.diag(s)\n",
        "V_T = tf.transpose(V)\n",
        "\n",
        "# Reconstruct the original matrix\n",
        "\n",
        "A_svd = U@S@V_T\n",
        "\n",
        "# Visualize\n",
        "plt.bar(range(len(s)), s)\n",
        "plt.xlabel(\"Singular value rank\")\n",
        "plt.ylabel(\"Singular value\")\n",
        "plt.title(\"Bar graph of singular values\")"
      ],
      "metadata": {
        "colab": {
          "base_uri": "https://localhost:8080/",
          "height": 419
        },
        "id": "xeiuIYy0K0Hr",
        "outputId": "635d92c9-68d5-4cf6-d93b-dd48e09fdfc5"
      },
      "execution_count": null,
      "outputs": [
        {
          "output_type": "execute_result",
          "data": {
            "text/plain": [
              "Text(0.5, 1.0, 'Bar graph of singular values')"
            ]
          },
          "metadata": {},
          "execution_count": 28
        },
        {
          "output_type": "display_data",
          "data": {
            "text/plain": [
              "<Figure size 1152x648 with 1 Axes>"
            ],
            "image/png": "[encoded data removed]"
          },
          "metadata": {
            "needs_background": "light"
          }
        }
      ]
    },
    {
      "cell_type": "code",
      "source": [
        "A_svd = tf.einsum('s, us, vs -> uv', s, U, V)\n",
        "print('\\nReconstructed Matrix, A_svd', A_svd)"
      ],
      "metadata": {
        "colab": {
          "base_uri": "https://localhost:8080/"
        },
        "id": "O03VwxmeLmBY",
        "outputId": "451fb140-5ddc-4253-9cda-41e053be4ff3"
      },
      "execution_count": null,
      "outputs": [
        {
          "output_type": "stream",
          "name": "stdout",
          "text": [
            "\n",
            "Reconstructed Matrix, A_svd tf.Tensor(\n",
            "[[ 1.0000001e+01  8.0000019e+00  2.0000006e+01  2.1057104e-13\n",
            "  -6.5968362e-07]\n",
            " [ 1.0000003e+01  9.0000048e+00  2.5000011e+01 -2.1365551e-13\n",
            "   6.3724991e-07]\n",
            " [ 1.2000002e+01  1.3000004e+01  1.9000006e+01 -3.1196644e-14\n",
            "   9.7503516e-08]\n",
            " [ 1.0000002e+01  8.0000029e+00  2.0000008e+01  7.3039949e-14\n",
            "  -2.2950711e-07]\n",
            " [ 1.0807370e-07 -4.1213351e-08  1.1218782e-15  1.1000001e+01\n",
            "   1.0000003e+01]\n",
            " [-3.2995032e-07 -2.6524333e-08  7.6891618e-16  1.2000002e+01\n",
            "   7.0000019e+00]\n",
            " [ 6.8835915e-09 -1.9893243e-08  7.1528883e-16  9.0000010e+00\n",
            "   8.0000019e+00]\n",
            " [ 1.0577917e-07 -3.4582271e-08  9.6228364e-16  7.9999995e+00\n",
            "   9.0000019e+00]], shape=(8, 5), dtype=float32)\n"
          ]
        }
      ]
    },
    {
      "cell_type": "markdown",
      "source": [
        "## SVD với bậc nhỏ hơn (Low rank approximation with the SVD)\n"
      ],
      "metadata": {
        "id": "9YrQSokRNO74"
      }
    },
    {
      "cell_type": "code",
      "source": [
        "s"
      ],
      "metadata": {
        "colab": {
          "base_uri": "https://localhost:8080/"
        },
        "id": "VjMFduhsNoTH",
        "outputId": "b49e1b42-3fac-4d13-946d-e0017d39d567"
      },
      "execution_count": null,
      "outputs": [
        {
          "output_type": "execute_result",
          "data": {
            "text/plain": [
              "<tf.Tensor: shape=(5,), dtype=float32, numpy=\n",
              "array([50.791157 , 26.361721 ,  5.1829314,  3.009946 ,  1.181883 ],\n",
              "      dtype=float32)>"
            ]
          },
          "metadata": {},
          "execution_count": 30
        }
      ]
    },
    {
      "cell_type": "code",
      "source": [
        "tf.linalg.diag(s)"
      ],
      "metadata": {
        "colab": {
          "base_uri": "https://localhost:8080/"
        },
        "id": "PIGGadL3NtFj",
        "outputId": "b7ab1470-8911-42c6-8a2b-d7099eae30c1"
      },
      "execution_count": null,
      "outputs": [
        {
          "output_type": "execute_result",
          "data": {
            "text/plain": [
              "<tf.Tensor: shape=(5, 5), dtype=float32, numpy=\n",
              "array([[50.791157 ,  0.       ,  0.       ,  0.       ,  0.       ],\n",
              "       [ 0.       , 26.361721 ,  0.       ,  0.       ,  0.       ],\n",
              "       [ 0.       ,  0.       ,  5.1829314,  0.       ,  0.       ],\n",
              "       [ 0.       ,  0.       ,  0.       ,  3.009946 ,  0.       ],\n",
              "       [ 0.       ,  0.       ,  0.       ,  0.       ,  1.181883 ]],\n",
              "      dtype=float32)>"
            ]
          },
          "metadata": {},
          "execution_count": 31
        }
      ]
    },
    {
      "cell_type": "code",
      "source": [
        "def rank_r_approx(s, U, V, r):\n",
        "  # Compute the matrices necessary for a rank-r approximation\n",
        "\n",
        "  s_r, U_r, V_r = tf.linalg.diag(s)[:r, :r], U[:, :r], V[:, :r]\n",
        "\n",
        "  A_r = U_r.numpy()@s_r.numpy()@V_r.numpy().T\n",
        "\n",
        "  return A_r"
      ],
      "metadata": {
        "id": "yLXp3oIDNTWq"
      },
      "execution_count": null,
      "outputs": []
    },
    {
      "cell_type": "code",
      "source": [
        "rank_r_approx(s, U, V, 2)"
      ],
      "metadata": {
        "colab": {
          "base_uri": "https://localhost:8080/"
        },
        "id": "A7vDfLXWNp84",
        "outputId": "fd649952-1f59-4bd3-c240-29aeda67fcee"
      },
      "execution_count": null,
      "outputs": [
        {
          "output_type": "execute_result",
          "data": {
            "text/plain": [
              "array([[ 9.7897644e+00,  8.8922548e+00,  1.9701759e+01, -3.2509016e-07,\n",
              "        -2.7405704e-07],\n",
              "       [ 1.1657083e+01,  1.0588380e+01,  2.3459709e+01,  3.1403488e-07,\n",
              "         2.6473722e-07],\n",
              "       [ 1.0560661e+01,  9.5924768e+00,  2.1253178e+01,  4.8049444e-08,\n",
              "         4.0506574e-08],\n",
              "       [ 9.7897663e+00,  8.8922567e+00,  1.9701761e+01, -1.1310044e-07,\n",
              "        -9.5345769e-08],\n",
              "       [ 1.2023317e-08,  1.0921038e-08,  2.4196749e-08,  1.1358165e+01,\n",
              "         9.5751438e+00],\n",
              "       [-6.0261137e-08, -5.4736493e-08, -1.2127467e-07,  1.0464336e+01,\n",
              "         8.8216305e+00],\n",
              "       [-1.9039306e-09, -1.7293813e-09, -3.8316323e-09,  9.2034445e+00,\n",
              "         7.7586746e+00],\n",
              "       [ 1.2657962e-08,  1.1497500e-08,  2.5473962e-08,  9.1116781e+00,\n",
              "         7.6813140e+00]], dtype=float32)"
            ]
          },
          "metadata": {},
          "execution_count": 33
        }
      ]
    },
    {
      "cell_type": "code",
      "source": [
        "rank_r_approx(s, U, V, 2).shape"
      ],
      "metadata": {
        "colab": {
          "base_uri": "https://localhost:8080/"
        },
        "id": "LSKqzabNNwEI",
        "outputId": "66223fb2-c8e5-4bd1-a706-0fe87c51e7fb"
      },
      "execution_count": null,
      "outputs": [
        {
          "output_type": "execute_result",
          "data": {
            "text/plain": [
              "(8, 5)"
            ]
          },
          "metadata": {},
          "execution_count": 34
        }
      ]
    },
    {
      "cell_type": "code",
      "source": [
        "import numpy as np\n"
      ],
      "metadata": {
        "id": "QfTEwgDUOo0j"
      },
      "execution_count": null,
      "outputs": []
    },
    {
      "cell_type": "code",
      "source": [
        "np.linalg.norm(U[:, 0])"
      ],
      "metadata": {
        "colab": {
          "base_uri": "https://localhost:8080/"
        },
        "id": "QfNS-mI_Osal",
        "outputId": "1e81b353-04c6-4a9e-9906-eb7b5dc87de5"
      },
      "execution_count": null,
      "outputs": [
        {
          "output_type": "execute_result",
          "data": {
            "text/plain": [
              "1.0000001"
            ]
          },
          "metadata": {},
          "execution_count": 36
        }
      ]
    },
    {
      "cell_type": "code",
      "source": [
        "np.linalg.norm(U[:, 1])"
      ],
      "metadata": {
        "colab": {
          "base_uri": "https://localhost:8080/"
        },
        "id": "wDkPX56YOyIT",
        "outputId": "904f5776-d9b3-40f7-b56e-8df3b9d471dc"
      },
      "execution_count": null,
      "outputs": [
        {
          "output_type": "execute_result",
          "data": {
            "text/plain": [
              "1.0"
            ]
          },
          "metadata": {},
          "execution_count": 37
        }
      ]
    },
    {
      "cell_type": "code",
      "source": [
        "U[:, 0].numpy().dot(U[:, 1].numpy())"
      ],
      "metadata": {
        "colab": {
          "base_uri": "https://localhost:8080/"
        },
        "id": "KMWiRBmrO03s",
        "outputId": "cee72d9b-a56f-426b-d7ea-bda706351351"
      },
      "execution_count": null,
      "outputs": [
        {
          "output_type": "execute_result",
          "data": {
            "text/plain": [
              "-1.2260952e-09"
            ]
          },
          "metadata": {},
          "execution_count": 38
        }
      ]
    },
    {
      "cell_type": "code",
      "source": [
        "V_T[0, :].numpy().dot(V[:, 1].numpy())"
      ],
      "metadata": {
        "colab": {
          "base_uri": "https://localhost:8080/"
        },
        "id": "aSwRvRpZO5Z3",
        "outputId": "4c8bc01b-5695-41ab-c7d0-9c2a2a74de73"
      },
      "execution_count": null,
      "outputs": [
        {
          "output_type": "execute_result",
          "data": {
            "text/plain": [
              "0.0"
            ]
          },
          "metadata": {},
          "execution_count": 42
        }
      ]
    }
  ]
}